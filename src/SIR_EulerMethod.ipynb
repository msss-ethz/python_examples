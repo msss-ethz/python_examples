{
 "cells": [
  {
   "cell_type": "code",
   "execution_count": null,
   "metadata": {},
   "outputs": [],
   "source": [
    "import matplotlib.pyplot as plt\n",
    "#Jupyter magic that makes plots to be inlined in the notebook\n",
    "%matplotlib inline "
   ]
  },
  {
   "cell_type": "code",
   "execution_count": null,
   "metadata": {},
   "outputs": [],
   "source": [
    "plt.rcParams.update({'font.size': 28})"
   ]
  },
  {
   "cell_type": "code",
   "execution_count": null,
   "metadata": {},
   "outputs": [],
   "source": [
    "# Initial conditions\n",
    "N=100\n",
    "I_0=1\n",
    "S_0=N_0-I_0\n",
    "R_0=0\n",
    "dt=0.001\n",
    "beta=0.5\n",
    "gamma=0.2\n",
    "\n",
    "# Maximum time to simulate\n",
    "max_time=40"
   ]
  },
  {
   "cell_type": "code",
   "execution_count": null,
   "metadata": {},
   "outputs": [],
   "source": [
    "# Number of iterations\n",
    "niter=int(max_time/dt)"
   ]
  },
  {
   "cell_type": "code",
   "execution_count": null,
   "metadata": {},
   "outputs": [],
   "source": [
    "S_t=[S_0]\n",
    "I_t=[I_0]\n",
    "R_t=[R_0]\n",
    "t=[0]\n",
    "for i in range(niter):\n",
    "    S_t.append(S_t[-1]-(beta*S_t[-1]*I_t[-1]/N)*dt)\n",
    "    I_t.append(I_t[-1]+(beta*S_t[-1]*I_t[-1]/N-gamma*I_t[-1])*dt)\n",
    "    R_t.append(R_t[-1]+gamma*I_t[-1]*dt)\n",
    "    t.append(t[-1]+dt)"
   ]
  },
  {
   "cell_type": "code",
   "execution_count": null,
   "metadata": {},
   "outputs": [],
   "source": [
    "fig, ax = plt.subplots(figsize=(20, 10))\n",
    "ax.plot(t,S_t,'red', label='S', linewidth=2)\n",
    "ax.plot(t,I_t,'green', label='I', linewidth=6)\n",
    "ax.plot(t,R_t,'blue', label='R', linewidth=2)\n",
    "plt.xlabel('Timstep')\n",
    "plt.ylabel('Count')\n",
    "plt.legend(['Suceptible','Infected','Recovered'])\n",
    "plt.title('Simulation results')\n",
    "plt.show()"
   ]
  },
  {
   "cell_type": "code",
   "execution_count": null,
   "metadata": {},
   "outputs": [],
   "source": []
  }
 ],
 "metadata": {
  "kernelspec": {
   "display_name": "Python 3",
   "language": "python",
   "name": "python3"
  },
  "language_info": {
   "codemirror_mode": {
    "name": "ipython",
    "version": 3
   },
   "file_extension": ".py",
   "mimetype": "text/x-python",
   "name": "python",
   "nbconvert_exporter": "python",
   "pygments_lexer": "ipython3",
   "version": "3.6.8"
  }
 },
 "nbformat": 4,
 "nbformat_minor": 2
}
