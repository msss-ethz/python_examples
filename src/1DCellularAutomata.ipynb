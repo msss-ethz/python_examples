{
 "cells": [
  {
   "cell_type": "markdown",
   "metadata": {},
   "source": [
    "# Modelling and Simulating Social Systems - <font size=4 color='gray'>Leonel Aguilar 2018</font>\n",
    "# <font color='gray'>Lecture 5 - 1D Cellular Automata</font>\n",
    "\n",
    "___"
   ]
  },
  {
   "cell_type": "markdown",
   "metadata": {},
   "source": [
    "### Import Libraries"
   ]
  },
  {
   "cell_type": "code",
   "execution_count": 239,
   "metadata": {},
   "outputs": [],
   "source": [
    "import numpy as np #matrix and vector library\n",
    "import matplotlib.pyplot as plt #plotting library"
   ]
  },
  {
   "cell_type": "markdown",
   "metadata": {},
   "source": [
    "### Define plots to be inlined"
   ]
  },
  {
   "cell_type": "code",
   "execution_count": 241,
   "metadata": {},
   "outputs": [],
   "source": [
    "#Jupyter magic that makes plots to be inlined in the notebook\n",
    "%matplotlib inline "
   ]
  },
  {
   "cell_type": "markdown",
   "metadata": {},
   "source": [
    "### Create cell \n",
    "- possible neighborhood configurations ($2$ states $[0,1]$ and $3$ cells $[(L)eft,(C)enter,(R)ight)]$), $2^3=8$ neighborhood configuarations \n",
    "- possible rules ($2$ states $[0,1]$ and $8$ neighborhood configurations) $2^8 = 256$ possible rules, also called elementary cellular automata"
   ]
  },
  {
   "cell_type": "code",
   "execution_count": 242,
   "metadata": {},
   "outputs": [],
   "source": [
    "x_dim=50 #Dimension of the 1D cells space\n",
    "cells = np.zeros([x_dim,1]) #creating empty cells\n",
    "cells[int(x_dim*0.8)]=1 #Adding seed\n",
    "cells[int(x_dim*0.2)]=1 #Adding another seed"
   ]
  },
  {
   "cell_type": "code",
   "execution_count": 243,
   "metadata": {},
   "outputs": [],
   "source": [
    "## Create a function to plot each automata generation"
   ]
  },
  {
   "cell_type": "code",
   "execution_count": 253,
   "metadata": {
    "scrolled": true
   },
   "outputs": [],
   "source": [
    "def PlotAutomataHistory(cellHistory):\n",
    "    \"\"\"Function that plots a cellular automata evolution history. \n",
    "    It plots the generations in the y-axis and the cells in the x axis\n",
    "    Input: Matrix of cells and their evolution on each generation\n",
    "    Output: Plot \n",
    "    \"\"\"\n",
    "    fig, ax = plt.subplots(1, 1, figsize=(16, 16)) #Determine the number of subplots in the figure and its size\n",
    "    ax.imshow(cellHistory.transpose(), interpolation='none') #Type of plot \n",
    "    #Axis labels\n",
    "    ax.set_xlabel('Cell')\n",
    "    ax.set_ylabel('Generation')\n",
    "    \n",
    "    \n",
    "    #Major ticks frequency\n",
    "    mTickNum=10\n",
    "    xNum=int(cellHistory.shape[0]/mTickNum)\n",
    "    yNum=int(cellHistory.shape[1]/mTickNum)+1\n",
    "         \n",
    "    #Major ticks\n",
    "    ax.set_xticks(np.arange(0, cellHistory.shape[0], xNum))\n",
    "    ax.set_yticks(np.arange(0, cellHistory.shape[1], yNum))\n",
    "    \n",
    "    #Major tick labels\n",
    "    ax.set_xticklabels(np.arange(0, cellHistory.shape[0]+1, xNum))\n",
    "    ax.set_yticklabels(np.arange(0, cellHistory.shape[1]+1, yNum))\n",
    "    \n",
    "    # Minor ticks\n",
    "    ax.set_xticks(np.arange(-.5, cellHistory.shape[0], 1), minor=True);\n",
    "    ax.set_yticks(np.arange(-.5, cellHistory.shape[1], 1), minor=True)\n",
    "    \n",
    "\n",
    "    \n",
    "    #Add grid\n",
    "    #Gray line separates cells\n",
    "    ax.grid(which='minor', axis='x', color='gray', linestyle='-', linewidth=2)\n",
    "    #Red line separates generations\n",
    "    ax.grid(which='minor', axis='y', color='red', linestyle='-', linewidth=2)\n",
    "    #ax.set_axis_off()"
   ]
  },
  {
   "cell_type": "markdown",
   "metadata": {},
   "source": [
    "### Plot initial state"
   ]
  },
  {
   "cell_type": "code",
   "execution_count": 254,
   "metadata": {},
   "outputs": [
    {
     "data": {
      "image/png": "[encoded data removed]",
      "text/plain": [
       "<Figure size 1152x1152 with 1 Axes>"
      ]
     },
     "metadata": {
      "needs_background": "light"
     },
     "output_type": "display_data"
    }
   ],
   "source": [
    "PlotAutomataHistory(cells)"
   ]
  },
  {
   "cell_type": "markdown",
   "metadata": {},
   "source": [
    "### Determine the rule"
   ]
  },
  {
   "cell_type": "code",
   "execution_count": 255,
   "metadata": {},
   "outputs": [
    {
     "name": "stdout",
     "output_type": "stream",
     "text": [
      "111|110|101|100|011|010|001|000|"
     ]
    }
   ],
   "source": [
    "#Enumarate the possible neighborhoods |(L)eft,(C)enter,(R)ight|\n",
    "for i in reversed(range(0,8)):\n",
    "    print(\"{0:03b}\".format(i), end='|')"
   ]
  },
  {
   "cell_type": "code",
   "execution_count": 256,
   "metadata": {},
   "outputs": [
    {
     "name": "stdout",
     "output_type": "stream",
     "text": [
      "01101110\n"
     ]
    }
   ],
   "source": [
    "#The 256 rules are named after the binary representation of the rule name in decimal\n",
    "print(\"{0:08b}\".format(110)) #i.e. 111 -> 0, 110 -> 1, 101 ->1, ..., 000->0"
   ]
  },
  {
   "cell_type": "markdown",
   "metadata": {},
   "source": [
    "### Define a function that applies the rule"
   ]
  },
  {
   "cell_type": "code",
   "execution_count": 257,
   "metadata": {},
   "outputs": [],
   "source": [
    "def apply_rule(L,C,R):\n",
    "    \"\"\"Defines the value of C in the next generation based on the values of L, C, R\n",
    "    Input: Values of L,C,R\n",
    "    Output: Value of C in the next generation\"\"\"\n",
    "    rval=0\n",
    "    if L == 1 and C == 1 and R ==1:\n",
    "        rval= 0\n",
    "    if L == 1 and C == 1 and R ==0:\n",
    "        rval= 1\n",
    "    if L == 1 and C == 0 and R ==1:\n",
    "        rval= 1\n",
    "    if L == 1 and C == 0 and R ==0:\n",
    "        rval= 0\n",
    "    if L == 0 and C == 1 and R ==1:\n",
    "        rval= 1\n",
    "    if L == 0 and C == 1 and R ==0:\n",
    "        rval= 1\n",
    "    if L == 0 and C == 0 and R ==1:\n",
    "        rval= 1\n",
    "    if L == 0 and C == 0 and R ==0:\n",
    "        rval= 0\n",
    "    return rval"
   ]
  },
  {
   "cell_type": "markdown",
   "metadata": {},
   "source": [
    "### Define the step Function\n"
   ]
  },
  {
   "cell_type": "code",
   "execution_count": 258,
   "metadata": {},
   "outputs": [],
   "source": [
    "def step(state):\n",
    "    \"\"\"Every timestep the state of the new generation of cells is determined by \n",
    "    the previous generation neighborhood\n",
    "    Input: current state of all cells (state)\n",
    "    Output: next state of all cells (new_state) \n",
    "    \"\"\"\n",
    "    new_state = np.zeros([x_dim,1])\n",
    "    #Iterate through all cells (C) in the automata and extract its neighbourhood\n",
    "    for i in range(x_dim):\n",
    "        #Handle boundary conditions\n",
    "        lc=i-1 if i>0 else 0\n",
    "        rc=i+1 if i<x_dim-1 else i\n",
    "        new_state[i] = apply_rule(state[lc],state[i],state[rc])\n",
    "    return new_state"
   ]
  },
  {
   "cell_type": "markdown",
   "metadata": {},
   "source": [
    "### Define the simulation"
   ]
  },
  {
   "cell_type": "code",
   "execution_count": 259,
   "metadata": {},
   "outputs": [],
   "source": [
    "def simulation(X,max_steps):\n",
    "    \"\"\"Traces the whole evolution of an initial state X through max_steps generations\n",
    "    Input: X, initial state\n",
    "    Output: cells_stack.transpose(), matrix stacking the cells state after each timestep \n",
    "    \"\"\"\n",
    "    cells_stack=X.transpose()\n",
    "    new_state=X\n",
    "    #Move one step forward max_step times\n",
    "    for i in range(max_steps):\n",
    "        #Moves one step forward\n",
    "        new_state=step(new_state)\n",
    "        #Stores the result\n",
    "        cells_stack=np.concatenate((cells_stack,new_state.transpose()))\n",
    "    return cells_stack.transpose()\n",
    "    "
   ]
  },
  {
   "cell_type": "markdown",
   "metadata": {},
   "source": [
    "# Performing the simulation\n",
    "___"
   ]
  },
  {
   "cell_type": "code",
   "execution_count": 260,
   "metadata": {},
   "outputs": [],
   "source": [
    "max_steps=100 #Number of timesteps\n",
    "results=simulation(cells,max_steps) #Perform simulation and store its results"
   ]
  },
  {
   "cell_type": "markdown",
   "metadata": {},
   "source": [
    "## Plot results"
   ]
  },
  {
   "cell_type": "code",
   "execution_count": 261,
   "metadata": {},
   "outputs": [
    {
     "data": {
      "image/png": "[encoded data removed]",
      "text/plain": [
       "<Figure size 1152x1152 with 1 Axes>"
      ]
     },
     "metadata": {
      "needs_background": "light"
     },
     "output_type": "display_data"
    }
   ],
   "source": [
    "PlotAutomataHistory(results)"
   ]
  },
  {
   "cell_type": "markdown",
   "metadata": {},
   "source": [
    "## To play around\n",
    "* What are the effect of different rules?\n",
    "    - Can you make the rule application function more generic?\n",
    "    - Can you make the rule application function have better performance? (think binary)\n",
    "* Can you make the rules non deterministic?\n",
    "* ..."
   ]
  },
  {
   "cell_type": "code",
   "execution_count": null,
   "metadata": {},
   "outputs": [],
   "source": []
  }
 ],
 "metadata": {
  "kernelspec": {
   "display_name": "Python 3",
   "language": "python",
   "name": "python3"
  },
  "language_info": {
   "codemirror_mode": {
    "name": "ipython",
    "version": 3
   },
   "file_extension": ".py",
   "mimetype": "text/x-python",
   "name": "python",
   "nbconvert_exporter": "python",
   "pygments_lexer": "ipython3",
   "version": "3.6.6"
  }
 },
 "nbformat": 4,
 "nbformat_minor": 2
}
